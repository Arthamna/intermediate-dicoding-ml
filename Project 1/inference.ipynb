{
 "cells": [
  {
   "cell_type": "code",
   "execution_count": 11,
   "id": "6733be75-8b84-42cb-b3bc-745accfd991e",
   "metadata": {},
   "outputs": [
    {
     "name": "stderr",
     "output_type": "stream",
     "text": [
      "WARNING:absl:Compiled the loaded model, but the compiled metrics have yet to be built. `model.compile_metrics` will be empty until you train or evaluate the model.\n"
     ]
    },
    {
     "name": "stdout",
     "output_type": "stream",
     "text": [
      "Sentimen: negatif\n",
      "Sentimen: positif\n",
      "Sentimen: negatif\n",
      "Sentimen: negatif\n"
     ]
    }
   ],
   "source": [
    "import tensorflow as tf\n",
    "import numpy as np\n",
    "import pickle\n",
    "import json\n",
    "from tensorflow.keras.preprocessing.sequence import pad_sequences\n",
    "\n",
    "# Muat model, tokenizer, dan label mapping, dan parameter\n",
    "loaded_model = tf.keras.models.load_model(\"cnn_sentiment_model.h5\")\n",
    "loaded_model.compile(optimizer='adam', loss='sparse_categorical_crossentropy')  \n",
    "with open('tokenizer.pkl', 'rb') as f:\n",
    "    loaded_tokenizer = pickle.load(f)\n",
    "with open('label_mapping.json', 'r') as f:\n",
    "    label_mapping = json.load(f)\n",
    "\n",
    "def predict_sentiment(text):\n",
    "    sequence = loaded_tokenizer.texts_to_sequences([text])\n",
    "    padded = pad_sequences(sequence, maxlen=25, padding='post', truncating='post', dtype='float32')\n",
    "    \n",
    "    # Konversi ke tensor dan prediksi\n",
    "    padded_tensor = tf.convert_to_tensor(padded, dtype=tf.float32)  \n",
    "    prediction = loaded_model.predict(padded_tensor, verbose=0)\n",
    "    \n",
    "    predicted_class = np.argmax(prediction)\n",
    "    return label_mapping[str(predicted_class)]\n",
    "\n",
    "# Contoh teks baru\n",
    "test_text = \"aplikasi sangat buruk, tidak akan dibuka lagi\"\n",
    "test_text_1 = \"mudah, bermanfaat, terima kasih\"\n",
    "test_text_2 = \"tolong pemerintah buat aplikasi yang benar, ini gak bagus\"\n",
    "test_text_3 = \"maaf, tetapi tampilan jelek\"\n",
    "\n",
    "# Prediksi\n",
    "print(f\"Sentimen: {predict_sentiment(test_text)}\")  \n",
    "print(f\"Sentimen: {predict_sentiment(test_text_1)}\")  \n",
    "print(f\"Sentimen: {predict_sentiment(test_text_2)}\")  \n",
    "print(f\"Sentimen: {predict_sentiment(test_text_3)}\")  "
   ]
  },
  {
   "cell_type": "code",
   "execution_count": null,
   "id": "a5abc955-295b-4c44-aa5a-f48410da1523",
   "metadata": {},
   "outputs": [],
   "source": []
  }
 ],
 "metadata": {
  "kernelspec": {
   "display_name": "Python 3 (ipykernel)",
   "language": "python",
   "name": "python3"
  },
  "language_info": {
   "codemirror_mode": {
    "name": "ipython",
    "version": 3
   },
   "file_extension": ".py",
   "mimetype": "text/x-python",
   "name": "python",
   "nbconvert_exporter": "python",
   "pygments_lexer": "ipython3",
   "version": "3.10.16"
  }
 },
 "nbformat": 4,
 "nbformat_minor": 5
}

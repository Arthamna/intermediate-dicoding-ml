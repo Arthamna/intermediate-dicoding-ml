{
 "cells": [
  {
   "cell_type": "code",
   "execution_count": 3,
   "id": "1a9804c1-ec38-4836-8e5b-1f7aad0cc263",
   "metadata": {},
   "outputs": [
    {
     "name": "stdout",
     "output_type": "stream",
     "text": [
      "Collecting google_play_scraper\n",
      "  Using cached google_play_scraper-1.2.7-py3-none-any.whl.metadata (50 kB)\n",
      "Using cached google_play_scraper-1.2.7-py3-none-any.whl (28 kB)\n",
      "Installing collected packages: google_play_scraper\n",
      "Successfully installed google_play_scraper-1.2.7\n",
      "Note: you may need to restart the kernel to use updated packages.\n"
     ]
    }
   ],
   "source": [
    "pip install google_play_scraper\n"
   ]
  },
  {
   "cell_type": "code",
   "execution_count": 1,
   "id": "ccd597e3-801a-4363-8393-d68aea74ae56",
   "metadata": {},
   "outputs": [
    {
     "name": "stdout",
     "output_type": "stream",
     "text": [
      "Shape: (99000, 11)\n",
      "\n",
      "Preview data:\n",
      "                               reviewId         userName  \\\n",
      "0  cace4851-2514-4b6e-a39e-287cc28e5d5e  Pengguna Google   \n",
      "1  7c56deef-8ffe-4fa3-bcfd-000f18a17b64  Pengguna Google   \n",
      "2  72ab714b-f62b-4a36-9df2-1a090722d5d2  Pengguna Google   \n",
      "3  58092196-abc1-48ff-b07a-53b0b16715ee  Pengguna Google   \n",
      "4  72cb484d-3000-4dac-b9f9-c361de2f5035  Pengguna Google   \n",
      "\n",
      "                                           userImage  \\\n",
      "0  https://play-lh.googleusercontent.com/EGemoI2N...   \n",
      "1  https://play-lh.googleusercontent.com/EGemoI2N...   \n",
      "2  https://play-lh.googleusercontent.com/EGemoI2N...   \n",
      "3  https://play-lh.googleusercontent.com/EGemoI2N...   \n",
      "4  https://play-lh.googleusercontent.com/EGemoI2N...   \n",
      "\n",
      "                                             content  score  thumbsUpCount  \\\n",
      "0  Untuk perubahan mudah, cumak untuk hasilnya zo...      3              0   \n",
      "1  Aplikasi apa sih ini? Kok busuk banget rasanya...      1            365   \n",
      "2  Mau daftar aja susah sekali Verifikasi wajah g...      1            199   \n",
      "3  Aplikasiii apaann, malah ribet. Verifikasi no ...      1            181   \n",
      "4  Aplikasi sampah bukanya mempermudah malah meny...      1             37   \n",
      "\n",
      "  reviewCreatedVersion                  at replyContent repliedAt appVersion  \n",
      "0                 None 2025-01-16 08:30:19         None       NaT       None  \n",
      "1               4.11.2 2025-01-15 21:37:40         None       NaT     4.11.2  \n",
      "2               4.11.2 2025-01-16 08:53:35         None       NaT     4.11.2  \n",
      "3               4.11.2 2025-01-17 17:33:26         None       NaT     4.11.2  \n",
      "4               4.11.2 2025-01-27 01:28:25         None       NaT     4.11.2  \n"
     ]
    }
   ],
   "source": [
    "from google_play_scraper import app, reviews, Sort\n",
    "import pandas as pd\n",
    "\n",
    "scrapreview = reviews(\n",
    "    'app.bpjs.mobile',          \n",
    "    lang='id',             \n",
    "    country='id',          \n",
    "    sort=Sort.MOST_RELEVANT,  \n",
    "    count = 99000\n",
    ")\n",
    "\n",
    "review_list = scrapreview[0] \n",
    "\n",
    "import csv\n",
    "\n",
    "with open('dataset.csv', mode='w', newline='', encoding='utf-8') as file:\n",
    "    writer = csv.writer(file)\n",
    "    writer.writerow(['Review'])  \n",
    "    for review in review_list:\n",
    "        writer.writerow([review['content']]) \n",
    "\n",
    "app_reviews_df = pd.DataFrame(review_list)\n",
    "print(\"Shape:\", app_reviews_df.shape)\n",
    "print(\"\\nPreview data:\")\n",
    "print(app_reviews_df.head())\n",
    "app_reviews_df.to_csv('dataset.csv', index=False)\n",
    " "
   ]
  }
 ],
 "metadata": {
  "kernelspec": {
   "display_name": "Python 3 (ipykernel)",
   "language": "python",
   "name": "python3"
  },
  "language_info": {
   "codemirror_mode": {
    "name": "ipython",
    "version": 3
   },
   "file_extension": ".py",
   "mimetype": "text/x-python",
   "name": "python",
   "nbconvert_exporter": "python",
   "pygments_lexer": "ipython3",
   "version": "3.10.16"
  }
 },
 "nbformat": 4,
 "nbformat_minor": 5
}
